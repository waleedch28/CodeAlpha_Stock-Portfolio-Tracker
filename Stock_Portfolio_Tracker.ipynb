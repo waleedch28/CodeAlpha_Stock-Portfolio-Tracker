{
  "nbformat": 4,
  "nbformat_minor": 0,
  "metadata": {
    "colab": {
      "provenance": [],
      "authorship_tag": "ABX9TyOzvl/WOX0Z9ioHIaBBnZcC",
      "include_colab_link": true
    },
    "kernelspec": {
      "name": "python3",
      "display_name": "Python 3"
    },
    "language_info": {
      "name": "python"
    }
  },
  "cells": [
    {
      "cell_type": "markdown",
      "metadata": {
        "id": "view-in-github",
        "colab_type": "text"
      },
      "source": [
        "<a href=\"https://colab.research.google.com/github/waleedch28/CodeAlpha_Stock-Portfolio-Tracker/blob/main/Stock_Portfolio_Tracker.ipynb\" target=\"_parent\"><img src=\"https://colab.research.google.com/assets/colab-badge.svg\" alt=\"Open In Colab\"/></a>"
      ]
    },
    {
      "cell_type": "markdown",
      "source": [
        "# **Stock Portfolio Tracker**"
      ],
      "metadata": {
        "id": "iC8lJEXxBZDe"
      }
    },
    {
      "cell_type": "code",
      "source": [
        "# Hardcoded dictionary for stock prices\n",
        "stock_prices = {\n",
        "    \"AAPL\": 180,\n",
        "    \"TSLA\": 250,\n",
        "    \"MSFT\": 320,\n",
        "    \"GOOGL\": 140\n",
        "}"
      ],
      "metadata": {
        "id": "rAaumJLFBA4I"
      },
      "execution_count": 7,
      "outputs": []
    },
    {
      "cell_type": "code",
      "source": [
        "# Dictionary to store user portfolio\n",
        "portfolio = {}"
      ],
      "metadata": {
        "id": "GFu37d2KBGB1"
      },
      "execution_count": 8,
      "outputs": []
    },
    {
      "cell_type": "code",
      "source": [
        "# Take user input\n",
        "print(\"Available stocks:\", list(stock_prices.keys()))\n",
        "n = int(input(\"How many different stocks do you want to add? \"))\n",
        "\n",
        "for _ in range(n):\n",
        "    stock = input(\"Enter stock symbol (e.g., AAPL, TSLA): \").upper()\n",
        "    if stock in stock_prices:\n",
        "        qty = int(input(f\"Enter quantity of {stock}: \"))\n",
        "        portfolio[stock] = portfolio.get(stock, 0) + qty\n",
        "    else:\n",
        "        print(\"Stock not available in the price list.\")\n",
        "\n",
        "# Calculate total investment\n",
        "total_investment = 0\n",
        "print(\"\\nYour Portfolio:\")\n",
        "for stock, qty in portfolio.items():\n",
        "    price = stock_prices[stock]\n",
        "    value = qty * price\n",
        "    total_investment += value\n",
        "    print(f\"{stock}: {qty} shares × ${price} = ${value}\")\n",
        "\n",
        "print(f\"\\nTotal Investment Value = ${total_investment}\")"
      ],
      "metadata": {
        "colab": {
          "base_uri": "https://localhost:8080/"
        },
        "id": "6pNkoe0KBLGW",
        "outputId": "f658fe99-37e3-4044-cace-fcc519c29c5d"
      },
      "execution_count": 9,
      "outputs": [
        {
          "output_type": "stream",
          "name": "stdout",
          "text": [
            "Available stocks: ['AAPL', 'TSLA', 'MSFT', 'GOOGL']\n",
            "How many different stocks do you want to add? 1\n",
            "Enter stock symbol (e.g., AAPL, TSLA): MSFT\n",
            "Enter quantity of MSFT: 100\n",
            "\n",
            "Your Portfolio:\n",
            "MSFT: 100 shares × $320 = $32000\n",
            "\n",
            "Total Investment Value = $32000\n"
          ]
        }
      ]
    },
    {
      "cell_type": "code",
      "execution_count": 10,
      "metadata": {
        "colab": {
          "base_uri": "https://localhost:8080/"
        },
        "id": "Sl3cFJXBA-sk",
        "outputId": "fc2856d2-e5bb-48d7-8e0c-f7be71a13c83"
      },
      "outputs": [
        {
          "output_type": "stream",
          "name": "stdout",
          "text": [
            "Do you want to save portfolio to file? (y/n): y\n",
            "Portfolio saved to portfolio.txt\n"
          ]
        }
      ],
      "source": [
        "y# Optional: Save to file\n",
        "save_option = input(\"Do you want to save portfolio to file? (y/n): \").lower()\n",
        "if save_option == \"y\":\n",
        "    with open(\"portfolio.txt\", \"w\") as f:\n",
        "        f.write(\"Stock Portfolio Tracker\\n\")\n",
        "        f.write(\"----------------------\\n\")\n",
        "        for stock, qty in portfolio.items():\n",
        "            f.write(f\"{stock}: {qty} shares × ${stock_prices[stock]} = ${qty * stock_prices[stock]}\\n\")\n",
        "        f.write(f\"\\nTotal Investment Value = ${total_investment}\\n\")\n",
        "    print(\"Portfolio saved to portfolio.txt\")\n"
      ]
    }
  ]
}